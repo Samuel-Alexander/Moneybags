{
 "cells": [
  {
   "cell_type": "code",
   "execution_count": 30,
   "id": "statewide-offense",
   "metadata": {},
   "outputs": [],
   "source": [
    "# Import dependencies\n",
    "import subprocess\n",
    "import json\n",
    "import os\n",
    "from dotenv import load_dotenv\n",
    "from web3 import Web3\n",
    "import bit\n",
    "from bit import Key, PrivateKey, PrivateKeyTestnet\n",
    "from bit.network import NetworkAPI\n",
    "from eth_account import Account "
   ]
  },
  {
   "cell_type": "code",
   "execution_count": 5,
   "id": "handed-saying",
   "metadata": {},
   "outputs": [],
   "source": [
    "#create web3 object\n",
    "w3 = Web3(Web3.HTTPProvider(\"http://127.0.0.1:8545\"))"
   ]
  },
  {
   "cell_type": "code",
   "execution_count": 6,
   "id": "pretty-creator",
   "metadata": {},
   "outputs": [],
   "source": [
    "# Load and set environment variables\n",
    "load_dotenv()\n",
    "mnemonic=os.getenv(\"mnemonic\")\n",
    "numderive = 3"
   ]
  },
  {
   "cell_type": "code",
   "execution_count": 7,
   "id": "close-buyer",
   "metadata": {},
   "outputs": [],
   "source": [
    "# Import constants.py and necessary functions from bit and web3\n",
    "from constants import *"
   ]
  },
  {
   "cell_type": "code",
   "execution_count": 8,
   "id": "respected-response",
   "metadata": {},
   "outputs": [],
   "source": [
    "# Create a function called `derive_wallets`\n",
    "def derive_wallets(coin=BTC, mnemonic=mnemonic, depth=3):\n",
    "    command = f'php ./derive -g --mnemonic=\"{mnemonic}\" --cols=all --coin={coin} --numderive={depth} --format=json'\n",
    "    p = subprocess.Popen(command, stdout=subprocess.PIPE, shell=True)\n",
    "    output, err = p.communicate()\n",
    "    p_status = p.wait()\n",
    "    keys = json.loads(output)\n",
    "    return keys"
   ]
  },
  {
   "cell_type": "code",
   "execution_count": 9,
   "id": "portuguese-thousand",
   "metadata": {},
   "outputs": [],
   "source": [
    "# Create a function called `priv_key_to_account` that converts privkey strings to account objects.\n",
    "def priv_key_to_account(coin, priv_key):\n",
    "    if coin == BTCTEST:\n",
    "        return bit.PrivateKeyTestnet(priv_key) \n",
    "    elif coin == ETH:\n",
    "        return Account.privateKeyToAccount(priv_key)\n",
    "    else:\n",
    "        print('Error: Invalid coin selection. Please use ETH or BTCTEST')"
   ]
  },
  {
   "cell_type": "code",
   "execution_count": 10,
   "id": "liable-episode",
   "metadata": {},
   "outputs": [],
   "source": [
    "# Create a function called `create_tx` that creates an unsigned transaction appropriate metadata.\n",
    "\n",
    "def create_tx(coin, account, to, amount):\n",
    "    if coin == ETH:\n",
    "        \n",
    "        gasEstimate = w3.eth.estimateGas(\n",
    "            {\"from\": account.address, \"to\": to, \"value\": amount}\n",
    "        )\n",
    "        return {\n",
    "            \"from\": account.address,\n",
    "            \"to\": to,\n",
    "            \"value\": amount,\n",
    "            \"gasPrice\": w3.eth.gasPrice,\n",
    "            \"gas\": gasEstimate,\n",
    "            \"nonce\": w3.eth.getTransactionCount(account.address),\n",
    "        }\n",
    "    elif coin == BTCTEST:\n",
    "        return bit.PrivateKeyTestnet.prepare_transaction(account.address, [(to,amount,BTC)])\n",
    "    else:\n",
    "        print('Error: Invalid coin selection. Please use ETH or BTCTEST')"
   ]
  },
  {
   "cell_type": "code",
   "execution_count": 11,
   "id": "educated-wrestling",
   "metadata": {},
   "outputs": [],
   "source": [
    "# Create a function called `send_tx` that calls `create_tx`, signs and sends the transaction.\n",
    "\n",
    "def send_tx(coin, account, to, amount):\n",
    "    if coin == ETH:\n",
    "        raw_tx = create_tx(account, to, amount)\n",
    "        signed_tx = account.sign_transaction(raw_tx)\n",
    "        result = w3.eth.sendRawTransaction(signed_tx.rawTransaction)\n",
    "        return result.hex()\n",
    "    elif coin == BTCTEST:\n",
    "        raw_tx = create_tx(coin,account,to,amount)\n",
    "        signed_tx = account.sign_transaction(raw_tx)\n",
    "        return NetworkAPI.broadcast_tx_testnet(signed_tx)\n",
    "    else:\n",
    "        print('Error: Invalid coin selection. Please use ETH or BTCTEST')"
   ]
  },
  {
   "cell_type": "code",
   "execution_count": 12,
   "id": "secondary-sleep",
   "metadata": {},
   "outputs": [],
   "source": [
    "# Create a dictionary object called coins to store the output from `derive_wallets`.\n",
    "coins = {\n",
    "    ETH: derive_wallets(coin=ETH),    \n",
    "    BTCTEST: derive_wallets(coin=BTCTEST),\n",
    "}"
   ]
  },
  {
   "cell_type": "code",
   "execution_count": 22,
   "id": "global-testimony",
   "metadata": {},
   "outputs": [],
   "source": [
    "account_one = priv_key_to_account(BTCTEST, 'cUrJMxeWVhuspKac36ZwQXruccRg84e8SjuahNm6yuA72qEy9RxX')"
   ]
  },
  {
   "cell_type": "code",
   "execution_count": 26,
   "id": "still-match",
   "metadata": {},
   "outputs": [],
   "source": [
    "account_two = 'tb1q8f9exefyvjrmpne82mtk0ehd8vedrhdvy2qalc'\n",
    "send_tx(BTCTEST, account_one, account_two, 0.0001)\n"
   ]
  },
  {
   "cell_type": "code",
   "execution_count": 28,
   "id": "level-operations",
   "metadata": {},
   "outputs": [],
   "source": [
    "from web3.middleware import geth_poa_middleware\n",
    "\n",
    "w3.middleware_onion.inject(geth_poa_middleware, layer=0)\n"
   ]
  },
  {
   "cell_type": "code",
   "execution_count": 45,
   "id": "wrapped-young",
   "metadata": {},
   "outputs": [],
   "source": [
    "ETH_1 = priv_key_to_account(ETH,'0xd8e2e0a98d054c0ad29cc94f47ae61f4fb4ce41c2569e1561b4e8b626e6f5b87')\n",
    "ETH_2 = '0x235355B881e6201BEDAADD8e2BFDF0cB4027e914'"
   ]
  },
  {
   "cell_type": "code",
   "execution_count": 46,
   "id": "standing-leone",
   "metadata": {},
   "outputs": [
    {
     "ename": "TypeError",
     "evalue": "create_tx() missing 1 required positional argument: 'amount'",
     "output_type": "error",
     "traceback": [
      "\u001b[0;31m---------------------------------------------------------------------------\u001b[0m",
      "\u001b[0;31mTypeError\u001b[0m                                 Traceback (most recent call last)",
      "\u001b[0;32m<ipython-input-46-bb30d895745e>\u001b[0m in \u001b[0;36m<module>\u001b[0;34m\u001b[0m\n\u001b[0;32m----> 1\u001b[0;31m \u001b[0msend_tx\u001b[0m\u001b[0;34m(\u001b[0m\u001b[0mcoin\u001b[0m\u001b[0;34m=\u001b[0m\u001b[0mETH\u001b[0m\u001b[0;34m,\u001b[0m \u001b[0maccount\u001b[0m\u001b[0;34m=\u001b[0m\u001b[0mETH_1\u001b[0m\u001b[0;34m,\u001b[0m \u001b[0mto\u001b[0m\u001b[0;34m=\u001b[0m\u001b[0mETH_2\u001b[0m\u001b[0;34m,\u001b[0m \u001b[0mamount\u001b[0m\u001b[0;34m=\u001b[0m\u001b[0;36m1\u001b[0m\u001b[0;34m)\u001b[0m\u001b[0;34m\u001b[0m\u001b[0;34m\u001b[0m\u001b[0m\n\u001b[0m",
      "\u001b[0;32m<ipython-input-11-911a7f9e3f4d>\u001b[0m in \u001b[0;36msend_tx\u001b[0;34m(coin, account, to, amount)\u001b[0m\n\u001b[1;32m      3\u001b[0m \u001b[0;32mdef\u001b[0m \u001b[0msend_tx\u001b[0m\u001b[0;34m(\u001b[0m\u001b[0mcoin\u001b[0m\u001b[0;34m,\u001b[0m \u001b[0maccount\u001b[0m\u001b[0;34m,\u001b[0m \u001b[0mto\u001b[0m\u001b[0;34m,\u001b[0m \u001b[0mamount\u001b[0m\u001b[0;34m)\u001b[0m\u001b[0;34m:\u001b[0m\u001b[0;34m\u001b[0m\u001b[0;34m\u001b[0m\u001b[0m\n\u001b[1;32m      4\u001b[0m     \u001b[0;32mif\u001b[0m \u001b[0mcoin\u001b[0m \u001b[0;34m==\u001b[0m \u001b[0mETH\u001b[0m\u001b[0;34m:\u001b[0m\u001b[0;34m\u001b[0m\u001b[0;34m\u001b[0m\u001b[0m\n\u001b[0;32m----> 5\u001b[0;31m         \u001b[0mraw_tx\u001b[0m \u001b[0;34m=\u001b[0m \u001b[0mcreate_tx\u001b[0m\u001b[0;34m(\u001b[0m\u001b[0maccount\u001b[0m\u001b[0;34m,\u001b[0m \u001b[0mto\u001b[0m\u001b[0;34m,\u001b[0m \u001b[0mamount\u001b[0m\u001b[0;34m)\u001b[0m\u001b[0;34m\u001b[0m\u001b[0;34m\u001b[0m\u001b[0m\n\u001b[0m\u001b[1;32m      6\u001b[0m         \u001b[0msigned_tx\u001b[0m \u001b[0;34m=\u001b[0m \u001b[0maccount\u001b[0m\u001b[0;34m.\u001b[0m\u001b[0msign_transaction\u001b[0m\u001b[0;34m(\u001b[0m\u001b[0mraw_tx\u001b[0m\u001b[0;34m)\u001b[0m\u001b[0;34m\u001b[0m\u001b[0;34m\u001b[0m\u001b[0m\n\u001b[1;32m      7\u001b[0m         \u001b[0mresult\u001b[0m \u001b[0;34m=\u001b[0m \u001b[0mw3\u001b[0m\u001b[0;34m.\u001b[0m\u001b[0meth\u001b[0m\u001b[0;34m.\u001b[0m\u001b[0msendRawTransaction\u001b[0m\u001b[0;34m(\u001b[0m\u001b[0msigned_tx\u001b[0m\u001b[0;34m.\u001b[0m\u001b[0mrawTransaction\u001b[0m\u001b[0;34m)\u001b[0m\u001b[0;34m\u001b[0m\u001b[0;34m\u001b[0m\u001b[0m\n",
      "\u001b[0;31mTypeError\u001b[0m: create_tx() missing 1 required positional argument: 'amount'"
     ]
    }
   ],
   "source": [
    "send_tx(coin=ETH, account=ETH_1, to=ETH_2, amount=1)"
   ]
  },
  {
   "cell_type": "code",
   "execution_count": null,
   "id": "alike-transcript",
   "metadata": {},
   "outputs": [],
   "source": []
  }
 ],
 "metadata": {
  "kernelspec": {
   "display_name": "Python 3",
   "language": "python",
   "name": "python3"
  },
  "language_info": {
   "codemirror_mode": {
    "name": "ipython",
    "version": 3
   },
   "file_extension": ".py",
   "mimetype": "text/x-python",
   "name": "python",
   "nbconvert_exporter": "python",
   "pygments_lexer": "ipython3",
   "version": "3.8.5"
  }
 },
 "nbformat": 4,
 "nbformat_minor": 5
}
